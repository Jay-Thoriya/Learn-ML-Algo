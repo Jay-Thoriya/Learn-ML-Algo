{
 "cells": [
  {
   "cell_type": "code",
   "execution_count": 1,
   "id": "7eb0d32c",
   "metadata": {},
   "outputs": [],
   "source": [
    "from tensorflow.keras.models import Sequential \n",
    "from tensorflow.keras.layers import Dense, Dropout, Flatten, Conv2D, MaxPooling2D\n",
    "import numpy as np\n",
    "import matplotlib.pyplot as plt"
   ]
  },
  {
   "cell_type": "code",
   "execution_count": 2,
   "id": "9a142aff",
   "metadata": {},
   "outputs": [],
   "source": [
    "from tensorflow.keras.datasets import mnist"
   ]
  },
  {
   "cell_type": "code",
   "execution_count": 3,
   "id": "cf708ebb",
   "metadata": {},
   "outputs": [],
   "source": [
    "(x_train, y_train) , (x_test, y_test) = mnist.load_data()"
   ]
  },
  {
   "cell_type": "code",
   "execution_count": 4,
   "id": "5a1d9605",
   "metadata": {},
   "outputs": [
    {
     "data": {
      "text/plain": [
       "(60000, 28, 28)"
      ]
     },
     "execution_count": 4,
     "metadata": {},
     "output_type": "execute_result"
    }
   ],
   "source": [
    "x_train.shape"
   ]
  },
  {
   "cell_type": "code",
   "execution_count": 5,
   "id": "d10bca5a",
   "metadata": {},
   "outputs": [
    {
     "data": {
      "text/plain": [
       "(60000,)"
      ]
     },
     "execution_count": 5,
     "metadata": {},
     "output_type": "execute_result"
    }
   ],
   "source": [
    "y_train.shape"
   ]
  },
  {
   "cell_type": "code",
   "execution_count": 6,
   "id": "882b8d5e",
   "metadata": {},
   "outputs": [
    {
     "data": {
      "text/plain": [
       "(10000, 28, 28)"
      ]
     },
     "execution_count": 6,
     "metadata": {},
     "output_type": "execute_result"
    }
   ],
   "source": [
    "x_test.shape"
   ]
  },
  {
   "cell_type": "code",
   "execution_count": 7,
   "id": "0916a11e",
   "metadata": {},
   "outputs": [
    {
     "data": {
      "text/plain": [
       "(10000,)"
      ]
     },
     "execution_count": 7,
     "metadata": {},
     "output_type": "execute_result"
    }
   ],
   "source": [
    "y_test.shape"
   ]
  },
  {
   "cell_type": "code",
   "execution_count": 8,
   "id": "53252933",
   "metadata": {},
   "outputs": [],
   "source": [
    "x_train = x_train.reshape(60000, 28, 28, 1)"
   ]
  },
  {
   "cell_type": "code",
   "execution_count": 9,
   "id": "ac95669d",
   "metadata": {},
   "outputs": [],
   "source": [
    "x_test = x_test.reshape(10000, 28, 28, 1)"
   ]
  },
  {
   "cell_type": "code",
   "execution_count": 10,
   "id": "b9f47650",
   "metadata": {},
   "outputs": [],
   "source": [
    "from tensorflow.keras import utils"
   ]
  },
  {
   "cell_type": "code",
   "execution_count": 11,
   "id": "62a039bd",
   "metadata": {},
   "outputs": [],
   "source": [
    "y_train = utils.to_categorical(y_train, 10)"
   ]
  },
  {
   "cell_type": "code",
   "execution_count": 12,
   "id": "71607b7a",
   "metadata": {},
   "outputs": [],
   "source": [
    "y_test = utils.to_categorical(y_test, 10)"
   ]
  },
  {
   "cell_type": "code",
   "execution_count": 13,
   "id": "7272a916",
   "metadata": {},
   "outputs": [
    {
     "data": {
      "text/plain": [
       "(60000, 10)"
      ]
     },
     "execution_count": 13,
     "metadata": {},
     "output_type": "execute_result"
    }
   ],
   "source": [
    "y_train.shape"
   ]
  },
  {
   "cell_type": "code",
   "execution_count": 14,
   "id": "3d9e557d",
   "metadata": {},
   "outputs": [],
   "source": [
    "arr = y_train[100]"
   ]
  },
  {
   "cell_type": "code",
   "execution_count": 15,
   "id": "39a5b649",
   "metadata": {},
   "outputs": [
    {
     "data": {
      "text/plain": [
       "array([0., 0., 0., 0., 0., 1., 0., 0., 0., 0.], dtype=float32)"
      ]
     },
     "execution_count": 15,
     "metadata": {},
     "output_type": "execute_result"
    }
   ],
   "source": [
    "arr"
   ]
  },
  {
   "cell_type": "code",
   "execution_count": 16,
   "id": "1ab01108",
   "metadata": {
    "scrolled": true
   },
   "outputs": [
    {
     "data": {
      "text/plain": [
       "<matplotlib.image.AxesImage at 0x1cb697c4190>"
      ]
     },
     "execution_count": 16,
     "metadata": {},
     "output_type": "execute_result"
    },
    {
     "data": {
      "image/png": "[encoded data removed]",
      "text/plain": [
       "<Figure size 640x480 with 1 Axes>"
      ]
     },
     "metadata": {},
     "output_type": "display_data"
    }
   ],
   "source": [
    "plt.imshow(x_train[100], cmap='gray')"
   ]
  },
  {
   "cell_type": "code",
   "execution_count": 17,
   "id": "bd0eb90e",
   "metadata": {},
   "outputs": [],
   "source": [
    "model = Sequential()"
   ]
  },
  {
   "cell_type": "code",
   "execution_count": 21,
   "id": "695ac7b3",
   "metadata": {},
   "outputs": [],
   "source": [
    "input_layer = Dense(32, input_shape=(28, 28, 1))"
   ]
  },
  {
   "cell_type": "code",
   "execution_count": 22,
   "id": "9179b74c",
   "metadata": {},
   "outputs": [],
   "source": [
    "model.add(input_layer)"
   ]
  },
  {
   "cell_type": "code",
   "execution_count": 26,
   "id": "06e0a65a",
   "metadata": {},
   "outputs": [],
   "source": [
    "conv_layer1 = Conv2D(32, kernel_size=(3,3), activation='relu')"
   ]
  },
  {
   "cell_type": "code",
   "execution_count": 27,
   "id": "26e16875",
   "metadata": {},
   "outputs": [],
   "source": [
    "model.add(conv_layer1)"
   ]
  },
  {
   "cell_type": "code",
   "execution_count": 28,
   "id": "244678c8",
   "metadata": {},
   "outputs": [],
   "source": [
    "conv_layer2 = Conv2D(64, (3,3), activation='relu')"
   ]
  },
  {
   "cell_type": "code",
   "execution_count": 29,
   "id": "9934b327",
   "metadata": {},
   "outputs": [],
   "source": [
    "model.add(conv_layer2)"
   ]
  },
  {
   "cell_type": "code",
   "execution_count": 31,
   "id": "63dd919d",
   "metadata": {},
   "outputs": [],
   "source": [
    "pool_layer = MaxPooling2D(pool_size=(2,2))"
   ]
  },
  {
   "cell_type": "code",
   "execution_count": 32,
   "id": "f06028be",
   "metadata": {},
   "outputs": [],
   "source": [
    "model.add(pool_layer)"
   ]
  },
  {
   "cell_type": "code",
   "execution_count": 33,
   "id": "b5c26372",
   "metadata": {},
   "outputs": [],
   "source": [
    "drop_layer = Dropout(0.5)"
   ]
  },
  {
   "cell_type": "code",
   "execution_count": 34,
   "id": "18d68667",
   "metadata": {},
   "outputs": [],
   "source": [
    "model.add(drop_layer)"
   ]
  },
  {
   "cell_type": "code",
   "execution_count": 35,
   "id": "bfbf79a1",
   "metadata": {},
   "outputs": [],
   "source": [
    "flat_layer = Flatten()"
   ]
  },
  {
   "cell_type": "code",
   "execution_count": 36,
   "id": "774d61aa",
   "metadata": {},
   "outputs": [],
   "source": [
    "model.add(flat_layer)"
   ]
  },
  {
   "cell_type": "code",
   "execution_count": 37,
   "id": "a98d6a4e",
   "metadata": {},
   "outputs": [],
   "source": [
    "output_layer = Dense(10, activation='relu')"
   ]
  },
  {
   "cell_type": "code",
   "execution_count": 38,
   "id": "989c1589",
   "metadata": {},
   "outputs": [],
   "source": [
    "model.add(output_layer)"
   ]
  },
  {
   "cell_type": "code",
   "execution_count": 39,
   "id": "33ef045e",
   "metadata": {},
   "outputs": [],
   "source": [
    "model.compile(loss='categorical_crossentropy', optimizer='adam',metrics=['accuracy'])"
   ]
  },
  {
   "cell_type": "code",
   "execution_count": 40,
   "id": "6540f94c",
   "metadata": {},
   "outputs": [
    {
     "name": "stdout",
     "output_type": "stream",
     "text": [
      "Epoch 1/10\n",
      "1875/1875 [==============================] - 165s 86ms/step - loss: nan - accuracy: 0.1079 - val_loss: nan - val_accuracy: 0.0980\n",
      "Epoch 2/10\n",
      "1875/1875 [==============================] - 182s 97ms/step - loss: nan - accuracy: 0.0987 - val_loss: nan - val_accuracy: 0.0980\n",
      "Epoch 3/10\n",
      "1875/1875 [==============================] - 169s 90ms/step - loss: nan - accuracy: 0.0987 - val_loss: nan - val_accuracy: 0.0980\n",
      "Epoch 4/10\n",
      "1875/1875 [==============================] - 187s 100ms/step - loss: nan - accuracy: 0.0987 - val_loss: nan - val_accuracy: 0.0980\n",
      "Epoch 5/10\n",
      "1875/1875 [==============================] - 190s 101ms/step - loss: nan - accuracy: 0.0987 - val_loss: nan - val_accuracy: 0.0980\n",
      "Epoch 6/10\n",
      "1875/1875 [==============================] - 199s 106ms/step - loss: nan - accuracy: 0.0987 - val_loss: nan - val_accuracy: 0.0980\n",
      "Epoch 7/10\n",
      "1875/1875 [==============================] - 181s 97ms/step - loss: nan - accuracy: 0.0987 - val_loss: nan - val_accuracy: 0.0980\n",
      "Epoch 8/10\n",
      "1875/1875 [==============================] - 149s 79ms/step - loss: nan - accuracy: 0.0987 - val_loss: nan - val_accuracy: 0.0980\n",
      "Epoch 9/10\n",
      "1875/1875 [==============================] - 164s 87ms/step - loss: nan - accuracy: 0.0987 - val_loss: nan - val_accuracy: 0.0980\n",
      "Epoch 10/10\n",
      "1875/1875 [==============================] - 329s 175ms/step - loss: nan - accuracy: 0.0987 - val_loss: nan - val_accuracy: 0.0980\n"
     ]
    }
   ],
   "source": [
    "history = model.fit(x_train, y_train, batch_size=32, epochs=10, verbose=1, validation_data=(x_test,y_test))"
   ]
  },
  {
   "cell_type": "code",
   "execution_count": 41,
   "id": "690a211f",
   "metadata": {},
   "outputs": [
    {
     "name": "stdout",
     "output_type": "stream",
     "text": [
      "313/313 [==============================] - 5s 14ms/step - loss: nan - accuracy: 0.0980\n"
     ]
    }
   ],
   "source": [
    "val_loss, val_acc = model.evaluate(x_test, y_test)"
   ]
  },
  {
   "cell_type": "code",
   "execution_count": 42,
   "id": "de69f109",
   "metadata": {},
   "outputs": [
    {
     "name": "stdout",
     "output_type": "stream",
     "text": [
      "1/1 [==============================] - 0s 311ms/step\n"
     ]
    }
   ],
   "source": [
    "arr = model.predict([x_train[100].reshape(1,28,28,1)])"
   ]
  },
  {
   "cell_type": "code",
   "execution_count": 43,
   "id": "c646c656",
   "metadata": {},
   "outputs": [
    {
     "data": {
      "text/plain": [
       "array([[nan, nan, nan, nan, nan, nan, nan, nan, nan, nan]], dtype=float32)"
      ]
     },
     "execution_count": 43,
     "metadata": {},
     "output_type": "execute_result"
    }
   ],
   "source": [
    "arr"
   ]
  },
  {
   "cell_type": "code",
   "execution_count": 44,
   "id": "63c70bcd",
   "metadata": {},
   "outputs": [],
   "source": [
    "lable = np.argmax(arr)"
   ]
  },
  {
   "cell_type": "code",
   "execution_count": 46,
   "id": "39a052c3",
   "metadata": {},
   "outputs": [
    {
     "data": {
      "text/plain": [
       "0"
      ]
     },
     "execution_count": 46,
     "metadata": {},
     "output_type": "execute_result"
    }
   ],
   "source": [
    "lable"
   ]
  },
  {
   "cell_type": "code",
   "execution_count": null,
   "id": "b7ba1e3c",
   "metadata": {},
   "outputs": [],
   "source": []
  }
 ],
 "metadata": {
  "kernelspec": {
   "display_name": "Python 3 (ipykernel)",
   "language": "python",
   "name": "python3"
  },
  "language_info": {
   "codemirror_mode": {
    "name": "ipython",
    "version": 3
   },
   "file_extension": ".py",
   "mimetype": "text/x-python",
   "name": "python",
   "nbconvert_exporter": "python",
   "pygments_lexer": "ipython3",
   "version": "3.10.9"
  }
 },
 "nbformat": 4,
 "nbformat_minor": 5
}
