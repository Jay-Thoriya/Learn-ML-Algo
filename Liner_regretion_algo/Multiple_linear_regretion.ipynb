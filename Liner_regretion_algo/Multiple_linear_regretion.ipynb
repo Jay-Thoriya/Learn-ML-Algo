{
 "cells": [
  {
   "cell_type": "code",
   "execution_count": 1,
   "id": "4cb61dc9",
   "metadata": {},
   "outputs": [],
   "source": [
    "import pandas as pd"
   ]
  },
  {
   "cell_type": "code",
   "execution_count": 2,
   "id": "094662f8",
   "metadata": {},
   "outputs": [],
   "source": [
    "df = pd.read_csv(\"D:\\python\\Liner_regretion_algo\\dataset.csv\")"
   ]
  },
  {
   "cell_type": "code",
   "execution_count": 3,
   "id": "51f9c0dd",
   "metadata": {},
   "outputs": [
    {
     "data": {
      "text/html": [
       "<div>\n",
       "<style scoped>\n",
       "    .dataframe tbody tr th:only-of-type {\n",
       "        vertical-align: middle;\n",
       "    }\n",
       "\n",
       "    .dataframe tbody tr th {\n",
       "        vertical-align: top;\n",
       "    }\n",
       "\n",
       "    .dataframe thead th {\n",
       "        text-align: right;\n",
       "    }\n",
       "</style>\n",
       "<table border=\"1\" class=\"dataframe\">\n",
       "  <thead>\n",
       "    <tr style=\"text-align: right;\">\n",
       "      <th></th>\n",
       "      <th>Obs</th>\n",
       "      <th>Price</th>\n",
       "      <th>SqFt</th>\n",
       "      <th>BedRooms</th>\n",
       "      <th>Baths</th>\n",
       "      <th>Garage</th>\n",
       "      <th>Zip</th>\n",
       "    </tr>\n",
       "  </thead>\n",
       "  <tbody>\n",
       "    <tr>\n",
       "      <th>0</th>\n",
       "      <td>1</td>\n",
       "      <td>52900</td>\n",
       "      <td>932</td>\n",
       "      <td>1</td>\n",
       "      <td>1.0</td>\n",
       "      <td>0</td>\n",
       "      <td>4</td>\n",
       "    </tr>\n",
       "    <tr>\n",
       "      <th>1</th>\n",
       "      <td>2</td>\n",
       "      <td>61500</td>\n",
       "      <td>780</td>\n",
       "      <td>3</td>\n",
       "      <td>1.0</td>\n",
       "      <td>0</td>\n",
       "      <td>5</td>\n",
       "    </tr>\n",
       "    <tr>\n",
       "      <th>2</th>\n",
       "      <td>3</td>\n",
       "      <td>62000</td>\n",
       "      <td>1500</td>\n",
       "      <td>3</td>\n",
       "      <td>1.0</td>\n",
       "      <td>0</td>\n",
       "      <td>9</td>\n",
       "    </tr>\n",
       "    <tr>\n",
       "      <th>3</th>\n",
       "      <td>4</td>\n",
       "      <td>62900</td>\n",
       "      <td>760</td>\n",
       "      <td>2</td>\n",
       "      <td>1.0</td>\n",
       "      <td>0</td>\n",
       "      <td>4</td>\n",
       "    </tr>\n",
       "    <tr>\n",
       "      <th>4</th>\n",
       "      <td>5</td>\n",
       "      <td>64900</td>\n",
       "      <td>900</td>\n",
       "      <td>2</td>\n",
       "      <td>1.0</td>\n",
       "      <td>0</td>\n",
       "      <td>4</td>\n",
       "    </tr>\n",
       "    <tr>\n",
       "      <th>...</th>\n",
       "      <td>...</td>\n",
       "      <td>...</td>\n",
       "      <td>...</td>\n",
       "      <td>...</td>\n",
       "      <td>...</td>\n",
       "      <td>...</td>\n",
       "      <td>...</td>\n",
       "    </tr>\n",
       "    <tr>\n",
       "      <th>499</th>\n",
       "      <td>500</td>\n",
       "      <td>490000</td>\n",
       "      <td>3900</td>\n",
       "      <td>4</td>\n",
       "      <td>3.5</td>\n",
       "      <td>3</td>\n",
       "      <td>5</td>\n",
       "    </tr>\n",
       "    <tr>\n",
       "      <th>500</th>\n",
       "      <td>501</td>\n",
       "      <td>535000</td>\n",
       "      <td>3331</td>\n",
       "      <td>5</td>\n",
       "      <td>3.5</td>\n",
       "      <td>3</td>\n",
       "      <td>6</td>\n",
       "    </tr>\n",
       "    <tr>\n",
       "      <th>501</th>\n",
       "      <td>502</td>\n",
       "      <td>549000</td>\n",
       "      <td>3615</td>\n",
       "      <td>4</td>\n",
       "      <td>4.5</td>\n",
       "      <td>3</td>\n",
       "      <td>5</td>\n",
       "    </tr>\n",
       "    <tr>\n",
       "      <th>502</th>\n",
       "      <td>503</td>\n",
       "      <td>625000</td>\n",
       "      <td>4840</td>\n",
       "      <td>4</td>\n",
       "      <td>4.0</td>\n",
       "      <td>3</td>\n",
       "      <td>6</td>\n",
       "    </tr>\n",
       "    <tr>\n",
       "      <th>503</th>\n",
       "      <td>504</td>\n",
       "      <td>830000</td>\n",
       "      <td>8805</td>\n",
       "      <td>5</td>\n",
       "      <td>6.5</td>\n",
       "      <td>3</td>\n",
       "      <td>5</td>\n",
       "    </tr>\n",
       "  </tbody>\n",
       "</table>\n",
       "<p>504 rows × 7 columns</p>\n",
       "</div>"
      ],
      "text/plain": [
       "     Obs   Price  SqFt  BedRooms  Baths  Garage  Zip\n",
       "0      1   52900   932         1    1.0       0    4\n",
       "1      2   61500   780         3    1.0       0    5\n",
       "2      3   62000  1500         3    1.0       0    9\n",
       "3      4   62900   760         2    1.0       0    4\n",
       "4      5   64900   900         2    1.0       0    4\n",
       "..   ...     ...   ...       ...    ...     ...  ...\n",
       "499  500  490000  3900         4    3.5       3    5\n",
       "500  501  535000  3331         5    3.5       3    6\n",
       "501  502  549000  3615         4    4.5       3    5\n",
       "502  503  625000  4840         4    4.0       3    6\n",
       "503  504  830000  8805         5    6.5       3    5\n",
       "\n",
       "[504 rows x 7 columns]"
      ]
     },
     "execution_count": 3,
     "metadata": {},
     "output_type": "execute_result"
    }
   ],
   "source": [
    "df"
   ]
  },
  {
   "cell_type": "code",
   "execution_count": 4,
   "id": "4098945e",
   "metadata": {},
   "outputs": [
    {
     "data": {
      "text/plain": [
       "Obs         0\n",
       "Price       0\n",
       "SqFt        0\n",
       "BedRooms    0\n",
       "Baths       0\n",
       "Garage      0\n",
       "Zip         0\n",
       "dtype: int64"
      ]
     },
     "execution_count": 4,
     "metadata": {},
     "output_type": "execute_result"
    }
   ],
   "source": [
    "df.isnull().sum()"
   ]
  },
  {
   "cell_type": "code",
   "execution_count": 10,
   "id": "4eafdbf1",
   "metadata": {},
   "outputs": [],
   "source": [
    "import seaborn as sns"
   ]
  },
  {
   "cell_type": "code",
   "execution_count": 11,
   "id": "fc35a133",
   "metadata": {},
   "outputs": [
    {
     "data": {
      "text/plain": [
       "<seaborn.axisgrid.FacetGrid at 0x15980a70280>"
      ]
     },
     "execution_count": 11,
     "metadata": {},
     "output_type": "execute_result"
    },
    {
     "data": {
      "image/png": "[encoded data removed]",
      "text/plain": [
       "<Figure size 500x500 with 1 Axes>"
      ]
     },
     "metadata": {},
     "output_type": "display_data"
    }
   ],
   "source": [
    "sns.lmplot(x='SqFt',y='Price',data=df)"
   ]
  },
  {
   "cell_type": "code",
   "execution_count": 13,
   "id": "b4f1a2b2",
   "metadata": {},
   "outputs": [
    {
     "data": {
      "text/plain": [
       "<Axes: xlabel='BedRooms', ylabel='Price'>"
      ]
     },
     "execution_count": 13,
     "metadata": {},
     "output_type": "execute_result"
    },
    {
     "data": {
      "image/png": "[encoded data removed]",
      "text/plain": [
       "<Figure size 640x480 with 1 Axes>"
      ]
     },
     "metadata": {},
     "output_type": "display_data"
    }
   ],
   "source": [
    "sns.boxplot(x='BedRooms',y='Price',data=df)"
   ]
  },
  {
   "cell_type": "code",
   "execution_count": 14,
   "id": "d5b4bceb",
   "metadata": {},
   "outputs": [
    {
     "data": {
      "text/plain": [
       "<Axes: xlabel='Baths', ylabel='Price'>"
      ]
     },
     "execution_count": 14,
     "metadata": {},
     "output_type": "execute_result"
    },
    {
     "data": {
      "image/png": "[encoded data removed]",
      "text/plain": [
       "<Figure size 640x480 with 1 Axes>"
      ]
     },
     "metadata": {},
     "output_type": "display_data"
    }
   ],
   "source": [
    "\n",
    "sns.boxplot(x='Baths',y='Price',data=df)"
   ]
  },
  {
   "cell_type": "code",
   "execution_count": 15,
   "id": "6c2eec19",
   "metadata": {},
   "outputs": [],
   "source": [
    "q3 = df['Price'].quantile(0.75)\n",
    "q1 = df['Price'].quantile(0.25)"
   ]
  },
  {
   "cell_type": "code",
   "execution_count": 16,
   "id": "4f944813",
   "metadata": {},
   "outputs": [],
   "source": [
    "iqr = q3-q1"
   ]
  },
  {
   "cell_type": "code",
   "execution_count": 17,
   "id": "5ae1da20",
   "metadata": {},
   "outputs": [
    {
     "data": {
      "text/plain": [
       "80000.0"
      ]
     },
     "execution_count": 17,
     "metadata": {},
     "output_type": "execute_result"
    }
   ],
   "source": [
    "iqr"
   ]
  },
  {
   "cell_type": "code",
   "execution_count": 18,
   "id": "a36065a6",
   "metadata": {},
   "outputs": [],
   "source": [
    "ul = q3 +(1.5 * iqr)\n",
    "ll = q3 -(1.5 * iqr)"
   ]
  },
  {
   "cell_type": "code",
   "execution_count": 19,
   "id": "9be00ca8",
   "metadata": {},
   "outputs": [
    {
     "name": "stdout",
     "output_type": "stream",
     "text": [
      "304900.0 64900.0\n"
     ]
    }
   ],
   "source": [
    "print(ul,ll)"
   ]
  },
  {
   "cell_type": "code",
   "execution_count": 20,
   "id": "af2a5588",
   "metadata": {},
   "outputs": [],
   "source": [
    "import numpy as np"
   ]
  },
  {
   "cell_type": "code",
   "execution_count": 21,
   "id": "0f692485",
   "metadata": {},
   "outputs": [],
   "source": [
    "upper = np.where(df['Price'] >= ul)"
   ]
  },
  {
   "cell_type": "code",
   "execution_count": 22,
   "id": "a3a7e245",
   "metadata": {},
   "outputs": [],
   "source": [
    "lower = np.where(df['Price'] <= ll)"
   ]
  },
  {
   "cell_type": "code",
   "execution_count": 23,
   "id": "383b80de",
   "metadata": {},
   "outputs": [],
   "source": [
    "df.drop(upper[0],inplace=True)\n",
    "df.drop(lower[0],inplace=True)"
   ]
  },
  {
   "cell_type": "code",
   "execution_count": 24,
   "id": "b3995447",
   "metadata": {},
   "outputs": [],
   "source": [
    "x = df.iloc[:,2:5].values"
   ]
  },
  {
   "cell_type": "code",
   "execution_count": 25,
   "id": "860cde37",
   "metadata": {},
   "outputs": [],
   "source": [
    "y = df.iloc[:,1].values"
   ]
  },
  {
   "cell_type": "code",
   "execution_count": 26,
   "id": "ab0bc11b",
   "metadata": {},
   "outputs": [
    {
     "name": "stdout",
     "output_type": "stream",
     "text": [
      "[[9.250e+02 3.000e+00 1.000e+00]\n",
      " [9.250e+02 3.000e+00 1.000e+00]\n",
      " [6.720e+02 2.000e+00 1.000e+00]\n",
      " ...\n",
      " [3.714e+03 4.000e+00 4.000e+00]\n",
      " [3.492e+03 4.000e+00 4.000e+00]\n",
      " [3.318e+03 4.000e+00 2.500e+00]] [ 65000  65000  67900  68900  69500  69900  69900  69900  71000  72500\n",
      "  72900  73500  75000  76900  77000  77500  77900  78900  79000  79900\n",
      "  79900  79900  79900  84900  87900  89000  89900  89900  89900  94900\n",
      "  95000 129900 139000 139900 169900 172000 184900  69900  72000  72500\n",
      "  72900  73500  73900  73900  78900  79900  79900  81500  82900  84500\n",
      "  84900  84900  84900  84900  86000  86000  87500  87900  88000  88500\n",
      "  89900  89900  89900  89900  89900  91600  92800  92900  93500  94500\n",
      "  94900  94900  94900  95000  95000  96500  99500 100900 101500 104000\n",
      " 104900 105000 109900 112500 113000 114900 119900 122900 129900 134900\n",
      " 144900 150000 159500 159900  65000  72900  72900  72900  75000  76500\n",
      "  76900  79900  79900  79900  81900  84500  84900  84900  89600  87000\n",
      "  87500  88000  89000  89000  89000  93900  94500  94900  94900  96000\n",
      "  96500  96900  99900  99900  99900  99900 101900 103500 103500 104500\n",
      " 104900 104900 104900 105000 105000 105500 105900 105900 105900 105900\n",
      " 105900 105900 105900 106000 107500 108500 108500 109000 109500 109500\n",
      " 109900 109900 109900 109900 109900 109900 109900 109900 109900 109900\n",
      " 109900 109900 109900 109900 109900 109900 109900 111000 111900 112000\n",
      " 112000 112900 112900 112900 113900 114500 114500 114900 114900 114900\n",
      " 114900 115000 115000 115000 115900 116000 116900 116900 117000 117500\n",
      " 117900 117900 118000 118900 119700 119800 119900 119900 119000 119900\n",
      " 119900 119900 119900 119900 119900 119900 119900 119900 120500 121500\n",
      " 121900 122500 122500 122900 122900 122900 123500 124900 124900 124900\n",
      " 124900 124900 124900 124900 124900 124900 124900 125000 125000 125000\n",
      " 125000 125900 125900 126000 126000 127000 127000 128900 128900 129000\n",
      " 129500 129900 129900 129900 129900 129900 129900 129900 129900 129900\n",
      " 130000 131900 131900 131900 132000 134900 134900 134900 134900 135000\n",
      " 135000 135000 136500 137000 137500 137900 138800 139500 139900 139900\n",
      " 139900 139900 139900 139900 139900 139900 139900 139900 142000 142500\n",
      " 142500 142900 143000 143900 145000 148900 148900 148900 149000 149500\n",
      " 149900 149900 154000 154000 154900 155900 156000 156500 156900 157000\n",
      " 157000 158900 159000 159500 159500 159900 159900 159900 159900 159900\n",
      " 159900 163900 164900 165000 165000 165900 165900 166900 166900 167500\n",
      " 168000 168900 168900 169900 169900 169900 169900 169900 169900 169900\n",
      " 172500 173400 173900 174900 174900 175000 175500 175500 176900 177900\n",
      " 179500 179900 179900 179900 179900 179900 179900 179900 179900 179900\n",
      " 180000 180000 182500 182500 182900 184900 184900 184900 187000 187900\n",
      " 188500 189900 189900 192000 194900 194900 195500 196900 197000 197500\n",
      " 199000 199500 199900 199900 199900 205000 205000 207000 213000 215000\n",
      " 219000 219000 219900 219900 219900 224900 224900 224900 224900 225000\n",
      " 226000 227900 229000 229000 229900 233900 234900 234900 235000 237900\n",
      " 237900 237900 239000 242900 244900 245900 245900 248900 249000 249000\n",
      " 249900 250000 252000 254800 254900 254900 259900 259900 259900 259900\n",
      " 259900 268000 269900 269900 275000 279900 279900 288000 289900 297900\n",
      " 299000 299900 299900  80000 104900 115000 118000 129000 134900 139900\n",
      " 149900 154500 169900 174900 179900 189900 194850 199900 205900 209900\n",
      " 219500 219900 228000 235000 249900 249900 252500 264900 264900 269500\n",
      " 274900 285000 285000 294900 295000 299000 299900]\n"
     ]
    }
   ],
   "source": [
    "print(x,y)"
   ]
  },
  {
   "cell_type": "code",
   "execution_count": 27,
   "id": "d75faafd",
   "metadata": {},
   "outputs": [],
   "source": [
    "from sklearn.model_selection import train_test_split"
   ]
  },
  {
   "cell_type": "code",
   "execution_count": 31,
   "id": "2d2aa70d",
   "metadata": {},
   "outputs": [],
   "source": [
    "x_train,x_test,y_train,y_test = train_test_split(x,y,test_size=0.3,random_state = 0)"
   ]
  },
  {
   "cell_type": "code",
   "execution_count": 32,
   "id": "129463ec",
   "metadata": {},
   "outputs": [],
   "source": [
    "from sklearn.linear_model import LinearRegression"
   ]
  },
  {
   "cell_type": "code",
   "execution_count": 33,
   "id": "253f55e4",
   "metadata": {},
   "outputs": [],
   "source": [
    "reg = LinearRegression()"
   ]
  },
  {
   "cell_type": "code",
   "execution_count": 34,
   "id": "6da0dffb",
   "metadata": {},
   "outputs": [
    {
     "data": {
      "text/html": [
       "<style>#sk-container-id-1 {color: black;background-color: white;}#sk-container-id-1 pre{padding: 0;}#sk-container-id-1 div.sk-toggleable {background-color: white;}#sk-container-id-1 label.sk-toggleable__label {cursor: pointer;display: block;width: 100%;margin-bottom: 0;padding: 0.3em;box-sizing: border-box;text-align: center;}#sk-container-id-1 label.sk-toggleable__label-arrow:before {content: \"▸\";float: left;margin-right: 0.25em;color: #696969;}#sk-container-id-1 label.sk-toggleable__label-arrow:hover:before {color: black;}#sk-container-id-1 div.sk-estimator:hover label.sk-toggleable__label-arrow:before {color: black;}#sk-container-id-1 div.sk-toggleable__content {max-height: 0;max-width: 0;overflow: hidden;text-align: left;background-color: #f0f8ff;}#sk-container-id-1 div.sk-toggleable__content pre {margin: 0.2em;color: black;border-radius: 0.25em;background-color: #f0f8ff;}#sk-container-id-1 input.sk-toggleable__control:checked~div.sk-toggleable__content {max-height: 200px;max-width: 100%;overflow: auto;}#sk-container-id-1 input.sk-toggleable__control:checked~label.sk-toggleable__label-arrow:before {content: \"▾\";}#sk-container-id-1 div.sk-estimator input.sk-toggleable__control:checked~label.sk-toggleable__label {background-color: #d4ebff;}#sk-container-id-1 div.sk-label input.sk-toggleable__control:checked~label.sk-toggleable__label {background-color: #d4ebff;}#sk-container-id-1 input.sk-hidden--visually {border: 0;clip: rect(1px 1px 1px 1px);clip: rect(1px, 1px, 1px, 1px);height: 1px;margin: -1px;overflow: hidden;padding: 0;position: absolute;width: 1px;}#sk-container-id-1 div.sk-estimator {font-family: monospace;background-color: #f0f8ff;border: 1px dotted black;border-radius: 0.25em;box-sizing: border-box;margin-bottom: 0.5em;}#sk-container-id-1 div.sk-estimator:hover {background-color: #d4ebff;}#sk-container-id-1 div.sk-parallel-item::after {content: \"\";width: 100%;border-bottom: 1px solid gray;flex-grow: 1;}#sk-container-id-1 div.sk-label:hover label.sk-toggleable__label {background-color: #d4ebff;}#sk-container-id-1 div.sk-serial::before {content: \"\";position: absolute;border-left: 1px solid gray;box-sizing: border-box;top: 0;bottom: 0;left: 50%;z-index: 0;}#sk-container-id-1 div.sk-serial {display: flex;flex-direction: column;align-items: center;background-color: white;padding-right: 0.2em;padding-left: 0.2em;position: relative;}#sk-container-id-1 div.sk-item {position: relative;z-index: 1;}#sk-container-id-1 div.sk-parallel {display: flex;align-items: stretch;justify-content: center;background-color: white;position: relative;}#sk-container-id-1 div.sk-item::before, #sk-container-id-1 div.sk-parallel-item::before {content: \"\";position: absolute;border-left: 1px solid gray;box-sizing: border-box;top: 0;bottom: 0;left: 50%;z-index: -1;}#sk-container-id-1 div.sk-parallel-item {display: flex;flex-direction: column;z-index: 1;position: relative;background-color: white;}#sk-container-id-1 div.sk-parallel-item:first-child::after {align-self: flex-end;width: 50%;}#sk-container-id-1 div.sk-parallel-item:last-child::after {align-self: flex-start;width: 50%;}#sk-container-id-1 div.sk-parallel-item:only-child::after {width: 0;}#sk-container-id-1 div.sk-dashed-wrapped {border: 1px dashed gray;margin: 0 0.4em 0.5em 0.4em;box-sizing: border-box;padding-bottom: 0.4em;background-color: white;}#sk-container-id-1 div.sk-label label {font-family: monospace;font-weight: bold;display: inline-block;line-height: 1.2em;}#sk-container-id-1 div.sk-label-container {text-align: center;}#sk-container-id-1 div.sk-container {/* jupyter's `normalize.less` sets `[hidden] { display: none; }` but bootstrap.min.css set `[hidden] { display: none !important; }` so we also need the `!important` here to be able to override the default hidden behavior on the sphinx rendered scikit-learn.org. See: https://github.com/scikit-learn/scikit-learn/issues/21755 */display: inline-block !important;position: relative;}#sk-container-id-1 div.sk-text-repr-fallback {display: none;}</style><div id=\"sk-container-id-1\" class=\"sk-top-container\"><div class=\"sk-text-repr-fallback\"><pre>LinearRegression()</pre><b>In a Jupyter environment, please rerun this cell to show the HTML representation or trust the notebook. <br />On GitHub, the HTML representation is unable to render, please try loading this page with nbviewer.org.</b></div><div class=\"sk-container\" hidden><div class=\"sk-item\"><div class=\"sk-estimator sk-toggleable\"><input class=\"sk-toggleable__control sk-hidden--visually\" id=\"sk-estimator-id-1\" type=\"checkbox\" checked><label for=\"sk-estimator-id-1\" class=\"sk-toggleable__label sk-toggleable__label-arrow\">LinearRegression</label><div class=\"sk-toggleable__content\"><pre>LinearRegression()</pre></div></div></div></div></div>"
      ],
      "text/plain": [
       "LinearRegression()"
      ]
     },
     "execution_count": 34,
     "metadata": {},
     "output_type": "execute_result"
    }
   ],
   "source": [
    "reg.fit(x_train,y_train)"
   ]
  },
  {
   "cell_type": "code",
   "execution_count": 35,
   "id": "7943e6cb",
   "metadata": {},
   "outputs": [],
   "source": [
    "y_pred = reg.predict(x_test)"
   ]
  },
  {
   "cell_type": "code",
   "execution_count": 36,
   "id": "747f325b",
   "metadata": {},
   "outputs": [
    {
     "data": {
      "text/plain": [
       "array([132965.02338466, 173568.30642556, 110841.42247734, 162587.29196153,\n",
       "       253134.06730964, 114596.45175202, 134987.11750281, 132269.66496736,\n",
       "       153964.84758704, 115163.84790184, 330162.92817967, 151461.55728477,\n",
       "       234748.64391048, 105353.73950996, 178655.62610909, 233241.16804567,\n",
       "       111269.84076498, 112307.32368293, 108905.62214616, 120523.7562443 ,\n",
       "       114677.09700973, 118223.42493795, 158490.23200746, 147289.40678098,\n",
       "       260557.64442947, 144855.65232044, 132825.9517012 , 123716.7564346 ,\n",
       "        85958.88819662,  78994.10078639, 129766.37466509, 155430.65497136,\n",
       "       110707.99932315, 160008.81728826,  69884.90551979, 142775.13177654,\n",
       "        71206.08651266, 134569.90245243, 191589.29267082, 186154.29377864,\n",
       "       190465.51596589, 135120.63447828, 109392.37303827, 122673.71880865,\n",
       "       126011.43921168, 185598.00704481, 171059.4614153 , 117592.04765439,\n",
       "       101448.52913583,  98272.28689078, 234979.56408891, 129210.08793125,\n",
       "       148471.51609039, 218012.91252813, 158431.89940299, 160223.07334272,\n",
       "        69548.4295484 , 114816.16869319, 165438.26147245, 146385.4408385 ,\n",
       "       182388.15508798, 102577.86054876, 159516.51168816,  88943.28086174,\n",
       "       149856.67821699,  73361.69760628,  68285.58116001, 114040.16501818,\n",
       "       114190.34611762, 157441.63967353, 112307.32368293,  70382.85964916,\n",
       "       121700.21702444, 193397.2245558 , 192829.7345847 , 136655.97770432,\n",
       "       121700.21702444, 102577.86054876, 153002.45521881, 102577.86054876,\n",
       "       188240.36903054, 144658.24803251, 176911.58153658,  73570.30513147,\n",
       "       151311.28236405, 210294.43409613, 166828.97830704,  97768.77805342,\n",
       "       161827.95241049, 169257.08423832, 169882.90681388,  88943.28086174,\n",
       "       102577.86054876, 103273.21896605, 221269.89385217, 218210.31681606,\n",
       "       228368.10441659, 125455.15247784, 206945.51045584, 119539.05122282,\n",
       "       132344.75551708,  73987.52018185, 103899.04154162, 105075.59614304,\n",
       "       101801.85687375,  68146.50947655, 202703.82411032, 155291.5832879 ,\n",
       "        61621.34359121, 120106.54119392, 218708.27094542, 165507.7034929 ,\n",
       "       145203.33152909,  74335.1993905 , 196723.74172157, 110146.15788132,\n",
       "       171690.83869886, 140335.82260801, 171423.8985692 ,  97919.05297414,\n",
       "       102577.86054876, 231491.66258644, 114596.45175202, 113419.89715061,\n",
       "       185748.28196553, 113912.20275071, 108905.62214616, 155558.52341756,\n",
       "        76270.99972167, 168909.40502967, 115581.06295222,  80042.69312033,\n",
       "       159741.8771586 , 126289.5825786 , 114098.49762265, 233786.34536352,\n",
       "       133729.91764368, 167171.00898642, 132825.9517012 , 319031.63879492,\n",
       "       188866.1916061 ])"
      ]
     },
     "execution_count": 36,
     "metadata": {},
     "output_type": "execute_result"
    }
   ],
   "source": [
    "y_pred"
   ]
  },
  {
   "cell_type": "code",
   "execution_count": 37,
   "id": "ef91c4f4",
   "metadata": {},
   "outputs": [],
   "source": [
    "from sklearn.metrics import r2_score"
   ]
  },
  {
   "cell_type": "code",
   "execution_count": 38,
   "id": "446aef46",
   "metadata": {},
   "outputs": [
    {
     "data": {
      "text/plain": [
       "0.7516402894779592"
      ]
     },
     "execution_count": 38,
     "metadata": {},
     "output_type": "execute_result"
    }
   ],
   "source": [
    "r2_score(y_test,y_pred)"
   ]
  },
  {
   "cell_type": "code",
   "execution_count": 39,
   "id": "f8ddfeef",
   "metadata": {},
   "outputs": [
    {
     "data": {
      "text/plain": [
       "0.7516402894779592"
      ]
     },
     "execution_count": 39,
     "metadata": {},
     "output_type": "execute_result"
    }
   ],
   "source": [
    "reg.score(x_test,y_test)"
   ]
  },
  {
   "cell_type": "code",
   "execution_count": 40,
   "id": "26c6a318",
   "metadata": {},
   "outputs": [
    {
     "name": "stdout",
     "output_type": "stream",
     "text": [
      "[59802.20846898]\n"
     ]
    }
   ],
   "source": [
    "print(reg.predict([[780,3,1]]))"
   ]
  },
  {
   "cell_type": "code",
   "execution_count": 41,
   "id": "bcbc9ee7",
   "metadata": {},
   "outputs": [
    {
     "name": "stdout",
     "output_type": "stream",
     "text": [
      "[128653.80119741 197088.08505419]\n"
     ]
    }
   ],
   "source": [
    "print(reg.predict([[1500,3,2],[2000,4,4]]))"
   ]
  }
 ],
 "metadata": {
  "kernelspec": {
   "display_name": "Python 3 (ipykernel)",
   "language": "python",
   "name": "python3"
  },
  "language_info": {
   "codemirror_mode": {
    "name": "ipython",
    "version": 3
   },
   "file_extension": ".py",
   "mimetype": "text/x-python",
   "name": "python",
   "nbconvert_exporter": "python",
   "pygments_lexer": "ipython3",
   "version": "3.10.9"
  }
 },
 "nbformat": 4,
 "nbformat_minor": 5
}
